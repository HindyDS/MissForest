{
  "nbformat": 4,
  "nbformat_minor": 0,
  "metadata": {
    "colab": {
      "name": "missforest example.ipynb",
      "provenance": []
    },
    "kernelspec": {
      "name": "python3",
      "display_name": "Python 3"
    },
    "language_info": {
      "name": "python"
    }
  },
  "cells": [
    {
      "cell_type": "code",
      "execution_count": 1,
      "metadata": {
        "colab": {
          "base_uri": "https://localhost:8080/"
        },
        "id": "GgWYb3vhR07u",
        "outputId": "ee037fe1-ab18-4127-9417-548c2a52e3a7"
      },
      "outputs": [
        {
          "output_type": "stream",
          "name": "stdout",
          "text": [
            "Collecting MissForest\n",
            "  Downloading MissForest-1.1.3-py3-none-any.whl (4.3 kB)\n",
            "Installing collected packages: MissForest\n",
            "Successfully installed MissForest-1.1.3\n"
          ]
        }
      ],
      "source": [
        "!pip install MissForest"
      ]
    },
    {
      "cell_type": "code",
      "source": [
        "# Import dependencies\n",
        "import numpy as np\n",
        "import pandas as pd\n",
        "from missforest.miss_forest import MissForest\n",
        "from sklearn.ensemble import RandomForestClassifier\n",
        "from sklearn.ensemble import RandomForestRegressor"
      ],
      "metadata": {
        "id": "xeEsGHh0SOvk"
      },
      "execution_count": 3,
      "outputs": []
    },
    {
      "cell_type": "code",
      "source": [
        "# Read our toy dataset \n",
        "fish = pd.read_csv('Fish.csv')\n",
        "\n",
        "# Randomly pick 15% of the values from each row\n",
        "# and set them to be missing\n",
        "frac = .15\n",
        "for c in fish.columns:\n",
        "  idx = np.random.choice(a=fish.index, size=int(len(fish) * frac))\n",
        "  fish.loc[idx, c] = np.nan"
      ],
      "metadata": {
        "id": "IugBkUSjSZLB"
      },
      "execution_count": 10,
      "outputs": []
    },
    {
      "cell_type": "code",
      "source": [
        "%%time\n",
        "\n",
        "# Instantiate miss forest and impute the dataset\n",
        "mf = MissForest()\n",
        "print(mf.fit_transform(fish))"
      ],
      "metadata": {
        "colab": {
          "base_uri": "https://localhost:8080/"
        },
        "id": "fnKLVfY5SmYG",
        "outputId": "962c7d02-ce83-4a3c-db51-ffeeafdad695"
      },
      "execution_count": 11,
      "outputs": [
        {
          "output_type": "stream",
          "name": "stdout",
          "text": [
            "    Species   Weight  Length1  Length2  Length3     Height     Width\n",
            "0     Bream  242.000   23.200   25.400   30.000  10.966311  4.020000\n",
            "1     Bream  290.000   24.000   26.300   31.200  12.480000  4.305600\n",
            "2     Bream  311.630   23.900   26.500   30.290  12.377800  4.696100\n",
            "3     Bream  344.700   26.300   29.000   33.500  12.730000  4.694537\n",
            "4     Bream  430.000   26.500   28.727   31.396  12.444000  5.134000\n",
            "..      ...      ...      ...      ...      ...        ...       ...\n",
            "154   Smelt   12.200   11.500   12.200   12.769   2.090400  1.393600\n",
            "155   Smelt   13.400   11.700   12.400   13.500   2.191249  1.269000\n",
            "156   Smelt   10.678   11.383   13.000   13.061   2.232285  1.255800\n",
            "157   Smelt   19.700   13.200   12.922   15.200   2.872800  2.067200\n",
            "158   Smelt   19.900   13.800   12.884   16.200   2.932200  1.879200\n",
            "\n",
            "[159 rows x 7 columns]\n",
            "CPU times: user 5.73 s, sys: 48 ms, total: 5.78 s\n",
            "Wall time: 5.78 s\n"
          ]
        }
      ]
    },
    {
      "cell_type": "code",
      "source": [
        ""
      ],
      "metadata": {
        "id": "m4IyqiGJSpbu"
      },
      "execution_count": null,
      "outputs": []
    }
  ]
}